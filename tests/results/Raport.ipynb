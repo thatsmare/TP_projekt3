# TECHNIKI PROGRAMOWANIA - projekt 3
### Martyna Penkowska 197926
### Natalia Sampławska 197573

Wykorzystane biblioteki:
- matplotplusplus (c++)
- AudioFile (python)
- opencv
