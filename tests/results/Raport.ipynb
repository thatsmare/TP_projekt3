{
 "cells": [
  {
   "cell_type": "markdown",
   "id": "e29dc3cc",
   "metadata": {
    "vscode": {
     "languageId": "plaintext"
    }
   },
   "source": [
    " # TECHNIKI PROGRAMOWANIA - projekt 3\n",
    " ### Martyna Penkowska 197926\n",
    " ### Natalia Sampławska 197573\n",
    "    \n",
    "Wykorzystane biblioteki:\n",
    "- matplotplusplus (c++)\n",
    "- AudioFile (python)\n",
    "- opencv"
   ]
  },
  {
   "cell_type": "markdown",
   "id": "13f6d942",
   "metadata": {},
   "source": [
    "## Wizualizacja sygnału\n",
    "Przykłady obrazujące zaimplementowaną funkcjonalność wizualizacji sygnału z wykorzystaniem biblioteki AudioFile oraz matplusplus\n"
   ]
  },
  {
   "cell_type": "code",
   "execution_count": null,
   "id": "973ca7fa",
   "metadata": {
    "vscode": {
     "languageId": "plaintext"
    }
   },
   "outputs": [],
   "source": [
    "import scikit_build_example as scikit_build_example\n",
    "import numpy as np \n",
    "\n"
   ]
  },
  {
   "cell_type": "markdown",
   "id": "2c29dc8e",
   "metadata": {},
   "source": [
    "## Generowanie sygnału o podanych parametrach\n",
    "\n",
    "#### sygnał sinusoidalny\n"
   ]
  },
  {
   "cell_type": "code",
   "execution_count": null,
   "id": "f68ca6c4",
   "metadata": {
    "vscode": {
     "languageId": "plaintext"
    }
   },
   "outputs": [],
   "source": [
    "amplitude = 5\n",
    "frequency = 1\n",
    "phase = 0\n",
    "duration = 10\n",
    "sampleRate = 1"
   ]
  },
  {
   "cell_type": "markdown",
   "id": "e7c6eee0",
   "metadata": {},
   "source": [
    "#### sygnał prostokątny"
   ]
  },
  {
   "cell_type": "code",
   "execution_count": null,
   "id": "c871eaf3",
   "metadata": {
    "vscode": {
     "languageId": "plaintext"
    }
   },
   "outputs": [],
   "source": [
    "amplitude = 5\n",
    "period = 2\n",
    "duty_cycle = 50\n",
    "duration = 10\n",
    "sampleRate = 1"
   ]
  },
  {
   "cell_type": "markdown",
   "id": "fdacc7b8",
   "metadata": {},
   "source": [
    "#### sygnał piłokształtny"
   ]
  },
  {
   "cell_type": "code",
   "execution_count": null,
   "id": "adf1cada",
   "metadata": {
    "vscode": {
     "languageId": "plaintext"
    }
   },
   "outputs": [],
   "source": [
    "amplitude = 5"
   ]
  },
  {
   "cell_type": "markdown",
   "id": "2ffc8c82",
   "metadata": {},
   "source": [
    "## Filtracja 1D"
   ]
  },
  {
   "cell_type": "markdown",
   "id": "b791c8e4",
   "metadata": {},
   "source": [
    "## Filtracja 2D"
   ]
  }
 ],
 "metadata": {
  "kernelspec": {
   "display_name": "Python 3 (ipykernel)",
   "language": "python",
   "name": "python3"
  },
  "language_info": {
   "codemirror_mode": {
    "name": "ipython",
    "version": 3
   },
   "file_extension": ".py",
   "mimetype": "text/x-python",
   "name": "python",
   "nbconvert_exporter": "python",
   "pygments_lexer": "ipython3",
   "version": "3.12.3"
  }
 },
 "nbformat": 4,
 "nbformat_minor": 5
}
