{
 "cells": [
  {
   "cell_type": "markdown",
   "id": "e29dc3cc",
   "metadata": {
    "vscode": {
     "languageId": "plaintext"
    }
   },
   "source": [
    " # TECHNIKI PROGRAMOWANIA - projekt 3\n",
    " ### Martyna Penkowska 197926\n",
    " ### Natalia Sampławska 197573\n",
    "    \n",
    "Wykorzystane biblioteki:\n",
    "- matplotplusplus (c++)\n",
    "- AudioFile (python)\n",
    "- opencv"
   ]
  },
  {
   "cell_type": "markdown",
   "id": "13f6d942",
   "metadata": {},
   "source": [
    "## Wizualizacja sygnału\n",
    "Przykłady obrazujące zaimplementowaną funkcjonalność wizualizacji sygnału za pomocą biblioteki AudioFile\n"
   ]
  },
  {
   "cell_type": "code",
   "execution_count": null,
   "id": "973ca7fa",
   "metadata": {
    "vscode": {
     "languageId": "plaintext"
    }
   },
   "outputs": [],
   "source": [
    "import scikit_build_example as scikit_build_example\n",
    "import numpy as np \n",
    "\n"
   ]
  }
 ],
 "metadata": {
  "kernelspec": {
   "display_name": "Python 3 (ipykernel)",
   "language": "python",
   "name": "python3"
  },
  "language_info": {
   "codemirror_mode": {
    "name": "ipython",
    "version": 3
   },
   "file_extension": ".py",
   "mimetype": "text/x-python",
   "name": "python",
   "nbconvert_exporter": "python",
   "pygments_lexer": "ipython3",
   "version": "3.12.3"
  }
 },
 "nbformat": 4,
 "nbformat_minor": 5
}
