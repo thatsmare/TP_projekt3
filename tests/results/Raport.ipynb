{
 "cells": [
  {
   "cell_type": "markdown",
   "id": "e29dc3cc",
   "metadata": {
    "vscode": {
     "languageId": "plaintext"
    }
   },
   "source": [
    " # TECHNIKI PROGRAMOWANIA - projekt 3\n",
    " ### Martyna Penkowska 197926\n",
    " ### Natalia Sampławska 197573\n",
    "    \n",
    "Wykorzystane biblioteki:\n",
    "- matplotplusplus (c++)\n",
    "- AudioFile (python)\n",
    "- opencv"
   ]
  },
  {
   "cell_type": "markdown",
   "id": "13f6d942",
   "metadata": {},
   "source": [
    "## Wizualizacja sygnału\n",
    "Przykłady obrazujące zaimplementowaną funkcjonalność wizualizacji sygnału z wykorzystaniem biblioteki AudioFile oraz matplusplus\n"
   ]
  },
  {
   "cell_type": "code",
   "execution_count": null,
   "id": "973ca7fa",
   "metadata": {
    "vscode": {
     "languageId": "plaintext"
    }
   },
   "outputs": [],
   "source": [
    "import scikit_build_example as sbe\n",
    "\n",
    "sbe.signal_visualization(file_location)"
   ]
  },
  {
   "cell_type": "markdown",
   "id": "bab59ed5",
   "metadata": {},
   "source": [
    "![Wizualizacja sygnału 1](signal_visualization1.png)"
   ]
  },
  {
   "cell_type": "markdown",
   "id": "db8558ae",
   "metadata": {},
   "source": [
    "![Wizualizacja sygnału 1](signal_visualization2.png)"
   ]
  },
  {
   "cell_type": "markdown",
   "id": "00fbdf23",
   "metadata": {},
   "source": [
    "![Wizualizacja sygnału 1](signal_visualization3.png)"
   ]
  },
  {
   "cell_type": "markdown",
   "id": "2c29dc8e",
   "metadata": {},
   "source": [
    "## Generowanie sygnału o podanych parametrach\n",
    "\n",
    "#### sygnał sinusoidalny\n"
   ]
  },
  {
   "cell_type": "code",
   "execution_count": null,
   "id": "f68ca6c4",
   "metadata": {
    "vscode": {
     "languageId": "plaintext"
    }
   },
   "outputs": [],
   "source": [
    "amplitude = 10\n",
    "frequency = 1\n",
    "phase = 0\n",
    "duration = 10\n",
    "sampleRate = 44100\n",
    "\n",
    "sbe.signal_generate_sinusoidal(amplitude,frequency,phase,duration,sampleRate)"
   ]
  },
  {
   "cell_type": "markdown",
   "id": "be7dfb91",
   "metadata": {},
   "source": [
    "![Wykres sinusa](signal_generate_sinusoidal1.png)"
   ]
  },
  {
   "cell_type": "code",
   "execution_count": null,
   "id": "260f8848",
   "metadata": {
    "vscode": {
     "languageId": "plaintext"
    }
   },
   "outputs": [],
   "source": [
    "amplitude = 1\n",
    "frequency = 5\n",
    "phase = 45\n",
    "duration = 20\n",
    "sampleRate = 500\n",
    "\n",
    "sbe.signal_generate_sinusoidal(amplitude,frequency,phase,duration,sampleRate)"
   ]
  },
  {
   "cell_type": "markdown",
   "id": "f34fd9de",
   "metadata": {},
   "source": [
    "![Wykres sinusa 2](signal_generate_sinusoidal2.png)"
   ]
  },
  {
   "cell_type": "markdown",
   "id": "e7c6eee0",
   "metadata": {},
   "source": [
    "#### sygnał prostokątny"
   ]
  },
  {
   "cell_type": "code",
   "execution_count": null,
   "id": "c871eaf3",
   "metadata": {
    "vscode": {
     "languageId": "plaintext"
    }
   },
   "outputs": [],
   "source": [
    "amplitude = 20\n",
    "period = 50\n",
    "duty_cycle = 50\n",
    "duration = 100\n",
    "sampleRate = 100\n",
    "\n",
    "sbe.signal_generate_square_wave(amplitude,period,duration,duty_cycle,sampleRate)"
   ]
  },
  {
   "cell_type": "markdown",
   "id": "ea96725e",
   "metadata": {},
   "source": [
    "![Wykres sygnału prostokątnego](signal_generate_square_wave1.png)"
   ]
  },
  {
   "cell_type": "markdown",
   "id": "fdacc7b8",
   "metadata": {},
   "source": [
    "#### sygnał piłokształtny"
   ]
  },
  {
   "cell_type": "code",
   "execution_count": null,
   "id": "adf1cada",
   "metadata": {
    "vscode": {
     "languageId": "plaintext"
    }
   },
   "outputs": [],
   "source": [
    "amplitude = 10\n",
    "frequency = 2\n",
    "duration = 10\n",
    "min_value = 0\n",
    "phase = 0\n",
    "sample_rate = 400\n",
    "unit = dB\n",
    "sbe.saw_wave_generate(amplitude,frequency,duration,min_value,phase,sample_rate,unit) "
   ]
  },
  {
   "cell_type": "markdown",
   "id": "64bcd069",
   "metadata": {},
   "source": [
    "![Wykres sygnału piłokształtnego1](saw_wave_generate1.png)"
   ]
  },
  {
   "cell_type": "code",
   "execution_count": null,
   "id": "0b495d65",
   "metadata": {
    "vscode": {
     "languageId": "plaintext"
    }
   },
   "outputs": [],
   "source": [
    "amplitude = 10\n",
    "frequency = 1\n",
    "duration = 10\n",
    "min_value = 5\n",
    "phase = 0\n",
    "sample_rate = 400\n",
    "unit = db\n",
    "sbe.saw_wave_generate(amplitude,frequency,duration,min_value,phase,sample_rate,unit) "
   ]
  },
  {
   "cell_type": "markdown",
   "id": "f307bbd4",
   "metadata": {},
   "source": [
    "![Wykres sygnału piłokształtnego2](saw_wave_generate2.png)"
   ]
  },
  {
   "cell_type": "markdown",
   "id": "2ffc8c82",
   "metadata": {},
   "source": [
    "## Filtracja 1D"
   ]
  },
  {
   "cell_type": "code",
   "execution_count": null,
   "id": "5f309066",
   "metadata": {
    "vscode": {
     "languageId": "plaintext"
    }
   },
   "outputs": [],
   "source": [
    "sbe.oned_filtering(file_location)"
   ]
  },
  {
   "cell_type": "markdown",
   "id": "b791c8e4",
   "metadata": {},
   "source": [
    "## Filtracja 2D"
   ]
  },
  {
   "cell_type": "code",
   "execution_count": null,
   "id": "e3339a79",
   "metadata": {
    "vscode": {
     "languageId": "plaintext"
    }
   },
   "outputs": [],
   "source": [
    "sbe.twod_filter(file_location)"
   ]
  }
 ],
 "metadata": {
  "kernelspec": {
   "display_name": "Python 3 (ipykernel)",
   "language": "python",
   "name": "python3"
  },
  "language_info": {
   "codemirror_mode": {
    "name": "ipython",
    "version": 3
   },
   "file_extension": ".py",
   "mimetype": "text/x-python",
   "name": "python",
   "nbconvert_exporter": "python",
   "pygments_lexer": "ipython3",
   "version": "3.12.3"
  }
 },
 "nbformat": 4,
 "nbformat_minor": 5
}
