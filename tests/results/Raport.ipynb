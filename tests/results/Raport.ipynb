# TECHNIKI PROGRAMOWANIA - projekt 3
### Martyna Penkowska 197926
### Natalia Sampławska 197573

Wykorzystane biblioteki:
- matplotplusplus (c++)
- AudioFile 
- OpenCV

##Wizualizacja sygnału
>>> scikit_build_example.signal_visualization()
Location of the file to visualize:
C:/Users/marty/Documents/GitHub/TP_projekt3/AudioFile/examples/test-audio.wav

![signal plot](signal_visualization1.png)



signal_visualization2.png:
>>> scikit_build_example.signal_visualization()
Location of the file to visualize:
C:\Users\marty\Downloads\wav_mono_16bit_48000.wav  

![signal plot](signal_visualization2.png)



signal_visualization3.png:
>>> scikit_build_example.signal_visualization()       
Location of the file to visualize:
C:\Users\marty\Downloads\aiff_stereo_16bit_44100.aif  

![signal plot](signal_visualization3.png)


##Generowanie sygnału sinusoidalnego

signal_generate_sinusoidal1:
>>> scikit_build_example.signal_generate_sinusoidal(10,1,0,10,44100) 

![Sine plot](signal_generate_sinusoidal1.png)


signal_generate_sinusoidal2:
>>> scikit_build_example.signal_generate_sinusoidal(1,5,45,20,500)  

![Sine plot](signal_generate_sinusoidal2.png)


##Generowanie sygnału prostokątenego

signal_generate_square_wave1:
>>> scikit_build_example.signal_generate_square_wave(20,50,100,50,100) 

![square plot](signal_generate_square_wave1.png)


##Generowanie sygnału piłokształtnego

saw_wave_generate1:
>>> scikit_build_example.saw_wave_generate()                          
Unit (on y axis):
dB
Amplitude [unit]:
10
Frequency [Hz]:
2
phase (degrees):
0
Signal duration [s]:
10
Minimal Value [unit]:
0
Sample Rate [Hz]:
400

![sawtooth plot](saw_wave_generate1.png)


saw_wave_generate2:
>>> scikit_build_example.saw_wave_generate()
Unit (on y axis):
db
Amplitude [db]:
10
Frequency [Hz]:
1
phase (degrees):
0
Signal duration [s]:
10
Minimal Value [db]:
5
Sample Rate [Hz]:
400

![sawtooth plot](saw_wave_generate2.png)


>>> scikit_build_example.saw_wave_generate()
Unit (on y axis):
dB
Amplitude [dB]:
10
Frequency [Hz]:
1
phase (degrees):
40
Signal duration [s]:
10
Minimal Value [dB]:
5
Sample Rate [Hz]:
4000

![sawtooth plot](saw_wave_generate3.png)



##Filtracja 1D

oned_filtering1:
>>> scikit_build_example.oned_filtering()
Location of the file:
C:\Users\marty\Downloads\wav_mono_16bit_44100.wav  
Kernel size:
3
Do you want to modify the kernel? (y/n):
y
Kernel[0] = 1
Kernel[1] = 2
Kernel[2] = 3
Kernel(,0,1,2)
0
>>> scikit_build_example.signal_visualization()
Location of the file to visualize:
post_filtering.wav

![1D filteration](oned_filtering1.png)
![1D filteration](signal_visualization_1Dfiltr.png)

