{
 "cells": [
  {
   "cell_type": "code",
   "execution_count": null,
   "metadata": {},
   "outputs": [],
   "source": [
    "{\n",
    " \"cells\": [\n",
    "  {\n",
    "   \"cell_type\": \"markdown\",\n",
    "   \"metadata\": {},\n",
    "   \"source\": [\n",
    "    \"# TECHNIKI PROGRAMOWANIA - projekt 3\\n\",\n",
    "    \"### Martyna Penkowska 197926\\n\",\n",
    "    \"### Natalia Sampławska 197573\\n\",\n",
    "    \"\\n\",\n",
    "    \"Wykorzystane biblioteki:\\n\",\n",
    "    \"- matplotplusplus (c++)\\n\",\n",
    "    \"- AudioFile (python)\"\n",
    "   ]\n",
    "  },\n",
    "  {\n",
    "   \"cell_type\": \"markdown\",\n",
    "   \"metadata\": {},\n",
    "   \"source\": [\n",
    "    \"# Generowanie wykresów funkcji\\n\",\n",
    "    \"Przykład obrazujący zaimplementowaną funkcjonalnośc - generowanie wykresów sinusa\"\n",
    "   ]\n",
    "  },\n",
    "  {\n",
    "   \"cell_type\": \"markdown\",\n",
    "   \"metadata\": {},\n",
    "   \"source\": [\n",
    "    \"![Sine plot](signal_generate_sinusoidal1.png)\"\n",
    "   ]\n",
    "  },"
   ]
  }
 ],
 "metadata": {
  "language_info": {
   "name": "python"
  }
 },
 "nbformat": 4,
 "nbformat_minor": 5
}
